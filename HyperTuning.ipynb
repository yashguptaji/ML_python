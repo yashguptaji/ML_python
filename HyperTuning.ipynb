{
 "cells": [
  {
   "cell_type": "code",
   "execution_count": 1,
   "metadata": {},
   "outputs": [],
   "source": [
    "import pandas as pd\n",
    "import numpy as np\n",
    "import matplotlib.pyplot as plt\n",
    "from sklearn import svm,datasets\n"
   ]
  },
  {
   "cell_type": "code",
   "execution_count": 2,
   "metadata": {},
   "outputs": [],
   "source": [
    "iris=datasets.load_iris()"
   ]
  },
  {
   "cell_type": "code",
   "execution_count": 7,
   "metadata": {},
   "outputs": [],
   "source": [
    "\n",
    "df=pd.DataFrame(iris['data'],columns=iris.feature_names)"
   ]
  },
  {
   "cell_type": "code",
   "execution_count": 8,
   "metadata": {},
   "outputs": [
    {
     "data": {
      "text/html": [
       "<div>\n",
       "<style scoped>\n",
       "    .dataframe tbody tr th:only-of-type {\n",
       "        vertical-align: middle;\n",
       "    }\n",
       "\n",
       "    .dataframe tbody tr th {\n",
       "        vertical-align: top;\n",
       "    }\n",
       "\n",
       "    .dataframe thead th {\n",
       "        text-align: right;\n",
       "    }\n",
       "</style>\n",
       "<table border=\"1\" class=\"dataframe\">\n",
       "  <thead>\n",
       "    <tr style=\"text-align: right;\">\n",
       "      <th></th>\n",
       "      <th>sepal length (cm)</th>\n",
       "      <th>sepal width (cm)</th>\n",
       "      <th>petal length (cm)</th>\n",
       "      <th>petal width (cm)</th>\n",
       "    </tr>\n",
       "  </thead>\n",
       "  <tbody>\n",
       "    <tr>\n",
       "      <th>0</th>\n",
       "      <td>5.1</td>\n",
       "      <td>3.5</td>\n",
       "      <td>1.4</td>\n",
       "      <td>0.2</td>\n",
       "    </tr>\n",
       "    <tr>\n",
       "      <th>1</th>\n",
       "      <td>4.9</td>\n",
       "      <td>3.0</td>\n",
       "      <td>1.4</td>\n",
       "      <td>0.2</td>\n",
       "    </tr>\n",
       "    <tr>\n",
       "      <th>2</th>\n",
       "      <td>4.7</td>\n",
       "      <td>3.2</td>\n",
       "      <td>1.3</td>\n",
       "      <td>0.2</td>\n",
       "    </tr>\n",
       "    <tr>\n",
       "      <th>3</th>\n",
       "      <td>4.6</td>\n",
       "      <td>3.1</td>\n",
       "      <td>1.5</td>\n",
       "      <td>0.2</td>\n",
       "    </tr>\n",
       "    <tr>\n",
       "      <th>4</th>\n",
       "      <td>5.0</td>\n",
       "      <td>3.6</td>\n",
       "      <td>1.4</td>\n",
       "      <td>0.2</td>\n",
       "    </tr>\n",
       "  </tbody>\n",
       "</table>\n",
       "</div>"
      ],
      "text/plain": [
       "   sepal length (cm)  sepal width (cm)  petal length (cm)  petal width (cm)\n",
       "0                5.1               3.5                1.4               0.2\n",
       "1                4.9               3.0                1.4               0.2\n",
       "2                4.7               3.2                1.3               0.2\n",
       "3                4.6               3.1                1.5               0.2\n",
       "4                5.0               3.6                1.4               0.2"
      ]
     },
     "execution_count": 8,
     "metadata": {},
     "output_type": "execute_result"
    }
   ],
   "source": [
    "df.head()"
   ]
  },
  {
   "cell_type": "code",
   "execution_count": 12,
   "metadata": {},
   "outputs": [
    {
     "data": {
      "text/plain": [
       "(150, 5)"
      ]
     },
     "execution_count": 12,
     "metadata": {},
     "output_type": "execute_result"
    }
   ],
   "source": [
    "df.shape"
   ]
  },
  {
   "cell_type": "code",
   "execution_count": 11,
   "metadata": {},
   "outputs": [
    {
     "data": {
      "text/html": [
       "<div>\n",
       "<style scoped>\n",
       "    .dataframe tbody tr th:only-of-type {\n",
       "        vertical-align: middle;\n",
       "    }\n",
       "\n",
       "    .dataframe tbody tr th {\n",
       "        vertical-align: top;\n",
       "    }\n",
       "\n",
       "    .dataframe thead th {\n",
       "        text-align: right;\n",
       "    }\n",
       "</style>\n",
       "<table border=\"1\" class=\"dataframe\">\n",
       "  <thead>\n",
       "    <tr style=\"text-align: right;\">\n",
       "      <th></th>\n",
       "      <th>sepal length (cm)</th>\n",
       "      <th>sepal width (cm)</th>\n",
       "      <th>petal length (cm)</th>\n",
       "      <th>petal width (cm)</th>\n",
       "      <th>flower</th>\n",
       "    </tr>\n",
       "  </thead>\n",
       "  <tbody>\n",
       "    <tr>\n",
       "      <th>0</th>\n",
       "      <td>5.1</td>\n",
       "      <td>3.5</td>\n",
       "      <td>1.4</td>\n",
       "      <td>0.2</td>\n",
       "      <td>setosa</td>\n",
       "    </tr>\n",
       "    <tr>\n",
       "      <th>1</th>\n",
       "      <td>4.9</td>\n",
       "      <td>3.0</td>\n",
       "      <td>1.4</td>\n",
       "      <td>0.2</td>\n",
       "      <td>setosa</td>\n",
       "    </tr>\n",
       "    <tr>\n",
       "      <th>2</th>\n",
       "      <td>4.7</td>\n",
       "      <td>3.2</td>\n",
       "      <td>1.3</td>\n",
       "      <td>0.2</td>\n",
       "      <td>setosa</td>\n",
       "    </tr>\n",
       "    <tr>\n",
       "      <th>3</th>\n",
       "      <td>4.6</td>\n",
       "      <td>3.1</td>\n",
       "      <td>1.5</td>\n",
       "      <td>0.2</td>\n",
       "      <td>setosa</td>\n",
       "    </tr>\n",
       "    <tr>\n",
       "      <th>4</th>\n",
       "      <td>5.0</td>\n",
       "      <td>3.6</td>\n",
       "      <td>1.4</td>\n",
       "      <td>0.2</td>\n",
       "      <td>setosa</td>\n",
       "    </tr>\n",
       "  </tbody>\n",
       "</table>\n",
       "</div>"
      ],
      "text/plain": [
       "   sepal length (cm)  sepal width (cm)  petal length (cm)  petal width (cm)  \\\n",
       "0                5.1               3.5                1.4               0.2   \n",
       "1                4.9               3.0                1.4               0.2   \n",
       "2                4.7               3.2                1.3               0.2   \n",
       "3                4.6               3.1                1.5               0.2   \n",
       "4                5.0               3.6                1.4               0.2   \n",
       "\n",
       "   flower  \n",
       "0  setosa  \n",
       "1  setosa  \n",
       "2  setosa  \n",
       "3  setosa  \n",
       "4  setosa  "
      ]
     },
     "execution_count": 11,
     "metadata": {},
     "output_type": "execute_result"
    }
   ],
   "source": [
    "df['flower']=iris['target']\n",
    "df['flower']=df['flower'].apply(lambda x:iris.target_names[x])\n",
    "df.head()"
   ]
  },
  {
   "cell_type": "code",
   "execution_count": 32,
   "metadata": {},
   "outputs": [],
   "source": [
    "from sklearn.model_selection import train_test_split as tts,cross_val_score as cvs\n"
   ]
  },
  {
   "cell_type": "code",
   "execution_count": 14,
   "metadata": {},
   "outputs": [],
   "source": [
    "X=df.iloc[:,:-1]\n",
    "y=df.iloc[:,-1]"
   ]
  },
  {
   "cell_type": "code",
   "execution_count": 29,
   "metadata": {},
   "outputs": [],
   "source": [
    "xtrain,xtest,ytrain,ytest=tts(X,y,test_size=0.2)"
   ]
  },
  {
   "cell_type": "code",
   "execution_count": 30,
   "metadata": {},
   "outputs": [
    {
     "data": {
      "text/plain": [
       "0.9666666666666667"
      ]
     },
     "execution_count": 30,
     "metadata": {},
     "output_type": "execute_result"
    }
   ],
   "source": [
    "model=svm.SVC(kernel='rbf',gamma='auto',C=0.5)\n",
    "model.fit(xtrain,ytrain)\n",
    "model.score(xtest,ytest)"
   ]
  },
  {
   "cell_type": "code",
   "execution_count": 35,
   "metadata": {},
   "outputs": [],
   "source": [
    "cross=cvs(svm.SVC(kernel='rbf',gamma='auto',C=0.5),X,y,cv=5)"
   ]
  },
  {
   "cell_type": "code",
   "execution_count": 42,
   "metadata": {},
   "outputs": [
    {
     "data": {
      "text/plain": [
       "0.9800000000000001"
      ]
     },
     "execution_count": 42,
     "metadata": {},
     "output_type": "execute_result"
    }
   ],
   "source": [
    "np.average(cross)"
   ]
  },
  {
   "cell_type": "code",
   "execution_count": 53,
   "metadata": {},
   "outputs": [
    {
     "name": "stdout",
     "output_type": "stream",
     "text": [
      "{'rbf_0.1': 0.9466666666666667, 'linear_0.1': 0.9733333333333334, 'rbf_0.5': 0.9800000000000001, 'linear_0.5': 0.9866666666666667, 'rbf_0.9': 0.9800000000000001, 'linear_0.9': 0.9866666666666667, 'rbf_1.3000000000000003': 0.9800000000000001, 'linear_1.3000000000000003': 0.9800000000000001, 'rbf_1.7000000000000002': 0.9866666666666667, 'linear_1.7000000000000002': 0.9800000000000001, 'rbf_2.1': 0.9800000000000001, 'linear_2.1': 0.9800000000000001, 'rbf_2.5000000000000004': 0.9800000000000001, 'linear_2.5000000000000004': 0.9800000000000001, 'rbf_2.9000000000000004': 0.9733333333333334, 'linear_2.9000000000000004': 0.9733333333333334, 'rbf_3.3000000000000003': 0.9866666666666667, 'linear_3.3000000000000003': 0.9733333333333334, 'rbf_3.7': 0.9866666666666667, 'linear_3.7': 0.9733333333333334, 'rbf_4.1': 0.9800000000000001, 'linear_4.1': 0.9733333333333334, 'rbf_4.5': 0.9800000000000001, 'linear_4.5': 0.9733333333333334, 'rbf_4.9': 0.9800000000000001, 'linear_4.9': 0.9800000000000001, 'rbf_5.3': 0.9800000000000001, 'linear_5.3': 0.9800000000000001, 'rbf_5.7': 0.9800000000000001, 'linear_5.7': 0.9733333333333334, 'rbf_6.1': 0.9800000000000001, 'linear_6.1': 0.9733333333333334, 'rbf_6.5': 0.9800000000000001, 'linear_6.5': 0.9733333333333334, 'rbf_6.9': 0.9800000000000001, 'linear_6.9': 0.9733333333333334, 'rbf_7.3': 0.9800000000000001, 'linear_7.3': 0.9733333333333334, 'rbf_7.7': 0.9800000000000001, 'linear_7.7': 0.9733333333333334, 'rbf_8.1': 0.9800000000000001, 'linear_8.1': 0.9733333333333334, 'rbf_8.5': 0.9800000000000001, 'linear_8.5': 0.9733333333333334, 'rbf_8.9': 0.9800000000000001, 'linear_8.9': 0.9733333333333334, 'rbf_9.3': 0.9800000000000001, 'linear_9.3': 0.9733333333333334, 'rbf_9.700000000000001': 0.9800000000000001, 'linear_9.700000000000001': 0.9733333333333334, 'rbf_10.1': 0.9800000000000001, 'linear_10.1': 0.9733333333333334, 'rbf_10.5': 0.9800000000000001, 'linear_10.5': 0.9733333333333334, 'rbf_10.9': 0.9800000000000001, 'linear_10.9': 0.9733333333333334, 'rbf_11.3': 0.9800000000000001, 'linear_11.3': 0.9733333333333334, 'rbf_11.700000000000001': 0.9800000000000001, 'linear_11.700000000000001': 0.9733333333333334, 'rbf_12.1': 0.9800000000000001, 'linear_12.1': 0.9733333333333334, 'rbf_12.5': 0.9800000000000001, 'linear_12.5': 0.9733333333333334, 'rbf_12.9': 0.9800000000000001, 'linear_12.9': 0.9733333333333334, 'rbf_13.3': 0.9800000000000001, 'linear_13.3': 0.9733333333333334, 'rbf_13.700000000000001': 0.9733333333333334, 'linear_13.700000000000001': 0.9666666666666666, 'rbf_14.1': 0.9733333333333334, 'linear_14.1': 0.9666666666666666, 'rbf_14.5': 0.9733333333333334, 'linear_14.5': 0.9666666666666666, 'rbf_14.9': 0.9733333333333334, 'linear_14.9': 0.9666666666666666, 'rbf_15.3': 0.9733333333333334, 'linear_15.3': 0.9666666666666666, 'rbf_15.700000000000001': 0.9733333333333334, 'linear_15.700000000000001': 0.9666666666666666, 'rbf_16.1': 0.9733333333333334, 'linear_16.1': 0.9666666666666666, 'rbf_16.500000000000004': 0.9733333333333334, 'linear_16.500000000000004': 0.9666666666666666, 'rbf_16.900000000000002': 0.9733333333333334, 'linear_16.900000000000002': 0.9666666666666666, 'rbf_17.3': 0.9733333333333334, 'linear_17.3': 0.9666666666666666, 'rbf_17.700000000000003': 0.9733333333333334, 'linear_17.700000000000003': 0.9666666666666666, 'rbf_18.1': 0.9733333333333334, 'linear_18.1': 0.9666666666666666, 'rbf_18.500000000000004': 0.9733333333333334, 'linear_18.500000000000004': 0.9666666666666666, 'rbf_18.900000000000002': 0.9733333333333334, 'linear_18.900000000000002': 0.9666666666666666, 'rbf_19.300000000000004': 0.9666666666666668, 'linear_19.300000000000004': 0.9666666666666666, 'rbf_19.700000000000003': 0.9666666666666668, 'linear_19.700000000000003': 0.9666666666666666}\n"
     ]
    }
   ],
   "source": [
    "crange=np.arange(0.1,20,0.4)\n",
    "kernel=['rbf','linear']\n",
    "avg_scores={}\n",
    "for c in crange:\n",
    "    for k in kernel:\n",
    "        cv_score=cvs(svm.SVC(kernel=k,gamma='auto',C=c),X,y,cv=5)\n",
    "        avg_scores[k+'_'+str(c)]=np.average(cv_score)\n",
    "print(avg_scores)\n",
    "#plt.plot(avg_scores[:,0],avg_scores[:,1])"
   ]
  },
  {
   "cell_type": "code",
   "execution_count": 70,
   "metadata": {},
   "outputs": [],
   "source": [
    "y1=avg_scores.values()\n",
    "x1=avg_scores.keys()"
   ]
  },
  {
   "cell_type": "code",
   "execution_count": 86,
   "metadata": {},
   "outputs": [
    {
     "data": {
      "text/plain": [
       "100"
      ]
     },
     "execution_count": 86,
     "metadata": {},
     "output_type": "execute_result"
    }
   ],
   "source": [
    "len(y1)"
   ]
  },
  {
   "cell_type": "code",
   "execution_count": 87,
   "metadata": {},
   "outputs": [
    {
     "data": {
      "text/plain": [
       "[<matplotlib.lines.Line2D at 0x20daac84d08>]"
      ]
     },
     "execution_count": 87,
     "metadata": {},
     "output_type": "execute_result"
    },
    {
     "data": {
      "image/png": "[encoded data removed]",
      "text/plain": [
       "<Figure size 432x288 with 1 Axes>"
      ]
     },
     "metadata": {
      "needs_background": "light"
     },
     "output_type": "display_data"
    }
   ],
   "source": [
    "plt.plot(x1,y1)"
   ]
  },
  {
   "cell_type": "code",
   "execution_count": 90,
   "metadata": {},
   "outputs": [],
   "source": [
    "from sklearn.model_selection import GridSearchCV as gscv\n"
   ]
  },
  {
   "cell_type": "code",
   "execution_count": 91,
   "metadata": {},
   "outputs": [],
   "source": [
    "clf=gscv(svm.SVC(gamma='auto'),{\n",
    "    'C':np.arange(1,20,1),\n",
    "    'kernel':['rbf','linear']},cv=5,return_train_score=False)\n"
   ]
  },
  {
   "cell_type": "code",
   "execution_count": 92,
   "metadata": {},
   "outputs": [
    {
     "data": {
      "text/plain": [
       "GridSearchCV(cv=5, estimator=SVC(gamma='auto'),\n",
       "             param_grid={'C': array([ 1,  2,  3,  4,  5,  6,  7,  8,  9, 10, 11, 12, 13, 14, 15, 16, 17,\n",
       "       18, 19]),\n",
       "                         'kernel': ['rbf', 'linear']})"
      ]
     },
     "execution_count": 92,
     "metadata": {},
     "output_type": "execute_result"
    }
   ],
   "source": [
    "clf.fit(X,y)"
   ]
  },
  {
   "cell_type": "code",
   "execution_count": 94,
   "metadata": {},
   "outputs": [
    {
     "data": {
      "text/plain": [
       "{'mean_fit_time': array([0.00359659, 0.00298519, 0.0031929 , 0.00220232, 0.0024035 ,\n",
       "        0.00239887, 0.00239224, 0.00219326, 0.00198307, 0.00218801,\n",
       "        0.00219378, 0.00199075, 0.00200381, 0.00238109, 0.00219254,\n",
       "        0.00258961, 0.0021945 , 0.00199423, 0.0023932 , 0.00199819,\n",
       "        0.00258584, 0.00258474, 0.00239325, 0.00218883, 0.00199089,\n",
       "        0.00239744, 0.00299668, 0.00218778, 0.0019958 , 0.00219402,\n",
       "        0.00279393, 0.00517464, 0.00359898, 0.0043859 , 0.00457616,\n",
       "        0.00397305, 0.0045845 , 0.00397906]),\n",
       " 'std_fit_time': array([7.92497438e-04, 8.98540994e-04, 1.15485562e-03, 3.95472204e-04,\n",
       "        4.88692163e-04, 4.92944988e-04, 4.88948422e-04, 3.96713396e-04,\n",
       "        1.77519244e-05, 3.85745152e-04, 3.98352787e-04, 4.49442736e-06,\n",
       "        1.35949610e-05, 4.85418189e-04, 3.97677656e-04, 4.86932686e-04,\n",
       "        3.97639896e-04, 2.16738094e-06, 4.86717696e-04, 4.02355635e-06,\n",
       "        4.84186480e-04, 4.95556820e-04, 4.89299451e-04, 3.89981631e-04,\n",
       "        5.90508483e-06, 7.90968728e-04, 8.92836967e-04, 4.02562817e-04,\n",
       "        3.86502917e-06, 3.99065089e-04, 7.47163059e-04, 1.70457310e-03,\n",
       "        1.73317310e-03, 1.50912940e-03, 1.84576731e-03, 1.66105609e-03,\n",
       "        2.05769085e-03, 1.78860130e-03]),\n",
       " 'mean_score_time': array([0.00219455, 0.00240636, 0.00219369, 0.00119424, 0.00198503,\n",
       "        0.00099559, 0.00119863, 0.00159669, 0.00160618, 0.00160117,\n",
       "        0.0017952 , 0.00140424, 0.0013876 , 0.00099597, 0.00159602,\n",
       "        0.00139842, 0.00119495, 0.00119734, 0.00099621, 0.00159283,\n",
       "        0.00140457, 0.00120487, 0.00099859, 0.00100098, 0.00119882,\n",
       "        0.00198503, 0.00179667, 0.00160275, 0.00178819, 0.00159574,\n",
       "        0.00238748, 0.00181408, 0.002384  , 0.00239468, 0.00239277,\n",
       "        0.00260563, 0.0026042 , 0.00239348]),\n",
       " 'std_score_time': array([3.98566146e-04, 7.92014864e-04, 9.77092372e-04, 3.96970500e-04,\n",
       "        6.18752804e-04, 2.40034350e-06, 3.98231020e-04, 4.87351884e-04,\n",
       "        4.99508225e-04, 4.81296629e-04, 3.97402782e-04, 4.95066300e-04,\n",
       "        4.84225822e-04, 2.00150090e-05, 4.88561251e-04, 4.91418543e-04,\n",
       "        4.01258709e-04, 3.99136457e-04, 5.13259331e-06, 4.86930090e-04,\n",
       "        4.95787738e-04, 3.95051358e-04, 2.68303011e-06, 1.00392059e-05,\n",
       "        3.96861068e-04, 1.08666518e-03, 9.75910198e-04, 4.94635934e-04,\n",
       "        3.94666608e-04, 4.88616621e-04, 4.94145622e-04, 7.53576515e-04,\n",
       "        1.34152299e-03, 1.34615727e-03, 1.02613839e-03, 1.85204386e-03,\n",
       "        7.98126916e-04, 1.35261626e-03]),\n",
       " 'param_C': masked_array(data=[1, 1, 2, 2, 3, 3, 4, 4, 5, 5, 6, 6, 7, 7, 8, 8, 9, 9,\n",
       "                    10, 10, 11, 11, 12, 12, 13, 13, 14, 14, 15, 15, 16, 16,\n",
       "                    17, 17, 18, 18, 19, 19],\n",
       "              mask=[False, False, False, False, False, False, False, False,\n",
       "                    False, False, False, False, False, False, False, False,\n",
       "                    False, False, False, False, False, False, False, False,\n",
       "                    False, False, False, False, False, False, False, False,\n",
       "                    False, False, False, False, False, False],\n",
       "        fill_value='?',\n",
       "             dtype=object),\n",
       " 'param_kernel': masked_array(data=['rbf', 'linear', 'rbf', 'linear', 'rbf', 'linear',\n",
       "                    'rbf', 'linear', 'rbf', 'linear', 'rbf', 'linear',\n",
       "                    'rbf', 'linear', 'rbf', 'linear', 'rbf', 'linear',\n",
       "                    'rbf', 'linear', 'rbf', 'linear', 'rbf', 'linear',\n",
       "                    'rbf', 'linear', 'rbf', 'linear', 'rbf', 'linear',\n",
       "                    'rbf', 'linear', 'rbf', 'linear', 'rbf', 'linear',\n",
       "                    'rbf', 'linear'],\n",
       "              mask=[False, False, False, False, False, False, False, False,\n",
       "                    False, False, False, False, False, False, False, False,\n",
       "                    False, False, False, False, False, False, False, False,\n",
       "                    False, False, False, False, False, False, False, False,\n",
       "                    False, False, False, False, False, False],\n",
       "        fill_value='?',\n",
       "             dtype=object),\n",
       " 'params': [{'C': 1, 'kernel': 'rbf'},\n",
       "  {'C': 1, 'kernel': 'linear'},\n",
       "  {'C': 2, 'kernel': 'rbf'},\n",
       "  {'C': 2, 'kernel': 'linear'},\n",
       "  {'C': 3, 'kernel': 'rbf'},\n",
       "  {'C': 3, 'kernel': 'linear'},\n",
       "  {'C': 4, 'kernel': 'rbf'},\n",
       "  {'C': 4, 'kernel': 'linear'},\n",
       "  {'C': 5, 'kernel': 'rbf'},\n",
       "  {'C': 5, 'kernel': 'linear'},\n",
       "  {'C': 6, 'kernel': 'rbf'},\n",
       "  {'C': 6, 'kernel': 'linear'},\n",
       "  {'C': 7, 'kernel': 'rbf'},\n",
       "  {'C': 7, 'kernel': 'linear'},\n",
       "  {'C': 8, 'kernel': 'rbf'},\n",
       "  {'C': 8, 'kernel': 'linear'},\n",
       "  {'C': 9, 'kernel': 'rbf'},\n",
       "  {'C': 9, 'kernel': 'linear'},\n",
       "  {'C': 10, 'kernel': 'rbf'},\n",
       "  {'C': 10, 'kernel': 'linear'},\n",
       "  {'C': 11, 'kernel': 'rbf'},\n",
       "  {'C': 11, 'kernel': 'linear'},\n",
       "  {'C': 12, 'kernel': 'rbf'},\n",
       "  {'C': 12, 'kernel': 'linear'},\n",
       "  {'C': 13, 'kernel': 'rbf'},\n",
       "  {'C': 13, 'kernel': 'linear'},\n",
       "  {'C': 14, 'kernel': 'rbf'},\n",
       "  {'C': 14, 'kernel': 'linear'},\n",
       "  {'C': 15, 'kernel': 'rbf'},\n",
       "  {'C': 15, 'kernel': 'linear'},\n",
       "  {'C': 16, 'kernel': 'rbf'},\n",
       "  {'C': 16, 'kernel': 'linear'},\n",
       "  {'C': 17, 'kernel': 'rbf'},\n",
       "  {'C': 17, 'kernel': 'linear'},\n",
       "  {'C': 18, 'kernel': 'rbf'},\n",
       "  {'C': 18, 'kernel': 'linear'},\n",
       "  {'C': 19, 'kernel': 'rbf'},\n",
       "  {'C': 19, 'kernel': 'linear'}],\n",
       " 'split0_test_score': array([0.96666667, 0.96666667, 0.96666667, 0.96666667, 0.96666667,\n",
       "        0.96666667, 0.96666667, 0.96666667, 0.96666667, 1.        ,\n",
       "        0.96666667, 1.        , 0.96666667, 1.        , 0.96666667,\n",
       "        1.        , 0.96666667, 1.        , 0.96666667, 1.        ,\n",
       "        0.96666667, 1.        , 0.96666667, 1.        , 0.96666667,\n",
       "        1.        , 0.96666667, 1.        , 0.96666667, 1.        ,\n",
       "        0.96666667, 1.        , 0.96666667, 1.        , 0.96666667,\n",
       "        1.        , 0.96666667, 1.        ]),\n",
       " 'split1_test_score': array([1., 1., 1., 1., 1., 1., 1., 1., 1., 1., 1., 1., 1., 1., 1., 1., 1.,\n",
       "        1., 1., 1., 1., 1., 1., 1., 1., 1., 1., 1., 1., 1., 1., 1., 1., 1.,\n",
       "        1., 1., 1., 1.]),\n",
       " 'split2_test_score': array([0.96666667, 0.96666667, 0.96666667, 0.96666667, 0.93333333,\n",
       "        0.93333333, 1.        , 0.93333333, 0.96666667, 0.93333333,\n",
       "        0.96666667, 0.9       , 0.96666667, 0.9       , 0.96666667,\n",
       "        0.9       , 0.96666667, 0.9       , 0.96666667, 0.9       ,\n",
       "        0.96666667, 0.9       , 0.96666667, 0.9       , 0.96666667,\n",
       "        0.9       , 0.93333333, 0.9       , 0.93333333, 0.9       ,\n",
       "        0.93333333, 0.9       , 0.93333333, 0.9       , 0.93333333,\n",
       "        0.9       , 0.93333333, 0.9       ]),\n",
       " 'split3_test_score': array([0.96666667, 0.96666667, 0.96666667, 0.96666667, 0.96666667,\n",
       "        0.96666667, 0.96666667, 0.96666667, 0.96666667, 0.96666667,\n",
       "        0.96666667, 0.96666667, 0.96666667, 0.96666667, 0.96666667,\n",
       "        0.96666667, 0.96666667, 0.96666667, 0.96666667, 0.96666667,\n",
       "        0.96666667, 0.96666667, 0.96666667, 0.96666667, 0.96666667,\n",
       "        0.96666667, 0.96666667, 0.93333333, 0.96666667, 0.93333333,\n",
       "        0.96666667, 0.93333333, 0.96666667, 0.93333333, 0.96666667,\n",
       "        0.93333333, 0.96666667, 0.93333333]),\n",
       " 'split4_test_score': array([1., 1., 1., 1., 1., 1., 1., 1., 1., 1., 1., 1., 1., 1., 1., 1., 1.,\n",
       "        1., 1., 1., 1., 1., 1., 1., 1., 1., 1., 1., 1., 1., 1., 1., 1., 1.,\n",
       "        1., 1., 1., 1.]),\n",
       " 'mean_test_score': array([0.98      , 0.98      , 0.98      , 0.98      , 0.97333333,\n",
       "        0.97333333, 0.98666667, 0.97333333, 0.98      , 0.98      ,\n",
       "        0.98      , 0.97333333, 0.98      , 0.97333333, 0.98      ,\n",
       "        0.97333333, 0.98      , 0.97333333, 0.98      , 0.97333333,\n",
       "        0.98      , 0.97333333, 0.98      , 0.97333333, 0.98      ,\n",
       "        0.97333333, 0.97333333, 0.96666667, 0.97333333, 0.96666667,\n",
       "        0.97333333, 0.96666667, 0.97333333, 0.96666667, 0.97333333,\n",
       "        0.96666667, 0.97333333, 0.96666667]),\n",
       " 'std_test_score': array([0.01632993, 0.01632993, 0.01632993, 0.01632993, 0.02494438,\n",
       "        0.02494438, 0.01632993, 0.02494438, 0.01632993, 0.02666667,\n",
       "        0.01632993, 0.03887301, 0.01632993, 0.03887301, 0.01632993,\n",
       "        0.03887301, 0.01632993, 0.03887301, 0.01632993, 0.03887301,\n",
       "        0.01632993, 0.03887301, 0.01632993, 0.03887301, 0.01632993,\n",
       "        0.03887301, 0.02494438, 0.0421637 , 0.02494438, 0.0421637 ,\n",
       "        0.02494438, 0.0421637 , 0.02494438, 0.0421637 , 0.02494438,\n",
       "        0.0421637 , 0.02494438, 0.0421637 ]),\n",
       " 'rank_test_score': array([ 2,  2,  2,  2, 16, 16,  1, 16,  2,  2,  2, 16,  2, 16,  2, 16,  2,\n",
       "        16,  2, 16,  2, 16,  2, 16,  2, 16, 16, 33, 16, 33, 16, 33, 16, 33,\n",
       "        16, 33, 16, 33])}"
      ]
     },
     "execution_count": 94,
     "metadata": {},
     "output_type": "execute_result"
    }
   ],
   "source": [
    "clf.cv_results_"
   ]
  },
  {
   "cell_type": "code",
   "execution_count": 96,
   "metadata": {},
   "outputs": [],
   "source": [
    "df2=pd.DataFrame(clf.cv_results_)"
   ]
  },
  {
   "cell_type": "code",
   "execution_count": 98,
   "metadata": {},
   "outputs": [
    {
     "data": {
      "text/html": [
       "<div>\n",
       "<style scoped>\n",
       "    .dataframe tbody tr th:only-of-type {\n",
       "        vertical-align: middle;\n",
       "    }\n",
       "\n",
       "    .dataframe tbody tr th {\n",
       "        vertical-align: top;\n",
       "    }\n",
       "\n",
       "    .dataframe thead th {\n",
       "        text-align: right;\n",
       "    }\n",
       "</style>\n",
       "<table border=\"1\" class=\"dataframe\">\n",
       "  <thead>\n",
       "    <tr style=\"text-align: right;\">\n",
       "      <th></th>\n",
       "      <th>mean_fit_time</th>\n",
       "      <th>std_fit_time</th>\n",
       "      <th>mean_score_time</th>\n",
       "      <th>std_score_time</th>\n",
       "      <th>param_C</th>\n",
       "      <th>param_kernel</th>\n",
       "      <th>params</th>\n",
       "      <th>split0_test_score</th>\n",
       "      <th>split1_test_score</th>\n",
       "      <th>split2_test_score</th>\n",
       "      <th>split3_test_score</th>\n",
       "      <th>split4_test_score</th>\n",
       "      <th>mean_test_score</th>\n",
       "      <th>std_test_score</th>\n",
       "      <th>rank_test_score</th>\n",
       "    </tr>\n",
       "  </thead>\n",
       "  <tbody>\n",
       "    <tr>\n",
       "      <th>0</th>\n",
       "      <td>0.003597</td>\n",
       "      <td>0.000792</td>\n",
       "      <td>0.002195</td>\n",
       "      <td>0.000399</td>\n",
       "      <td>1</td>\n",
       "      <td>rbf</td>\n",
       "      <td>{'C': 1, 'kernel': 'rbf'}</td>\n",
       "      <td>0.966667</td>\n",
       "      <td>1.0</td>\n",
       "      <td>0.966667</td>\n",
       "      <td>0.966667</td>\n",
       "      <td>1.0</td>\n",
       "      <td>0.980000</td>\n",
       "      <td>0.016330</td>\n",
       "      <td>2</td>\n",
       "    </tr>\n",
       "    <tr>\n",
       "      <th>1</th>\n",
       "      <td>0.002985</td>\n",
       "      <td>0.000899</td>\n",
       "      <td>0.002406</td>\n",
       "      <td>0.000792</td>\n",
       "      <td>1</td>\n",
       "      <td>linear</td>\n",
       "      <td>{'C': 1, 'kernel': 'linear'}</td>\n",
       "      <td>0.966667</td>\n",
       "      <td>1.0</td>\n",
       "      <td>0.966667</td>\n",
       "      <td>0.966667</td>\n",
       "      <td>1.0</td>\n",
       "      <td>0.980000</td>\n",
       "      <td>0.016330</td>\n",
       "      <td>2</td>\n",
       "    </tr>\n",
       "    <tr>\n",
       "      <th>2</th>\n",
       "      <td>0.003193</td>\n",
       "      <td>0.001155</td>\n",
       "      <td>0.002194</td>\n",
       "      <td>0.000977</td>\n",
       "      <td>2</td>\n",
       "      <td>rbf</td>\n",
       "      <td>{'C': 2, 'kernel': 'rbf'}</td>\n",
       "      <td>0.966667</td>\n",
       "      <td>1.0</td>\n",
       "      <td>0.966667</td>\n",
       "      <td>0.966667</td>\n",
       "      <td>1.0</td>\n",
       "      <td>0.980000</td>\n",
       "      <td>0.016330</td>\n",
       "      <td>2</td>\n",
       "    </tr>\n",
       "    <tr>\n",
       "      <th>3</th>\n",
       "      <td>0.002202</td>\n",
       "      <td>0.000395</td>\n",
       "      <td>0.001194</td>\n",
       "      <td>0.000397</td>\n",
       "      <td>2</td>\n",
       "      <td>linear</td>\n",
       "      <td>{'C': 2, 'kernel': 'linear'}</td>\n",
       "      <td>0.966667</td>\n",
       "      <td>1.0</td>\n",
       "      <td>0.966667</td>\n",
       "      <td>0.966667</td>\n",
       "      <td>1.0</td>\n",
       "      <td>0.980000</td>\n",
       "      <td>0.016330</td>\n",
       "      <td>2</td>\n",
       "    </tr>\n",
       "    <tr>\n",
       "      <th>6</th>\n",
       "      <td>0.002392</td>\n",
       "      <td>0.000489</td>\n",
       "      <td>0.001199</td>\n",
       "      <td>0.000398</td>\n",
       "      <td>4</td>\n",
       "      <td>rbf</td>\n",
       "      <td>{'C': 4, 'kernel': 'rbf'}</td>\n",
       "      <td>0.966667</td>\n",
       "      <td>1.0</td>\n",
       "      <td>1.000000</td>\n",
       "      <td>0.966667</td>\n",
       "      <td>1.0</td>\n",
       "      <td>0.986667</td>\n",
       "      <td>0.016330</td>\n",
       "      <td>1</td>\n",
       "    </tr>\n",
       "    <tr>\n",
       "      <th>8</th>\n",
       "      <td>0.001983</td>\n",
       "      <td>0.000018</td>\n",
       "      <td>0.001606</td>\n",
       "      <td>0.000500</td>\n",
       "      <td>5</td>\n",
       "      <td>rbf</td>\n",
       "      <td>{'C': 5, 'kernel': 'rbf'}</td>\n",
       "      <td>0.966667</td>\n",
       "      <td>1.0</td>\n",
       "      <td>0.966667</td>\n",
       "      <td>0.966667</td>\n",
       "      <td>1.0</td>\n",
       "      <td>0.980000</td>\n",
       "      <td>0.016330</td>\n",
       "      <td>2</td>\n",
       "    </tr>\n",
       "    <tr>\n",
       "      <th>9</th>\n",
       "      <td>0.002188</td>\n",
       "      <td>0.000386</td>\n",
       "      <td>0.001601</td>\n",
       "      <td>0.000481</td>\n",
       "      <td>5</td>\n",
       "      <td>linear</td>\n",
       "      <td>{'C': 5, 'kernel': 'linear'}</td>\n",
       "      <td>1.000000</td>\n",
       "      <td>1.0</td>\n",
       "      <td>0.933333</td>\n",
       "      <td>0.966667</td>\n",
       "      <td>1.0</td>\n",
       "      <td>0.980000</td>\n",
       "      <td>0.026667</td>\n",
       "      <td>2</td>\n",
       "    </tr>\n",
       "    <tr>\n",
       "      <th>10</th>\n",
       "      <td>0.002194</td>\n",
       "      <td>0.000398</td>\n",
       "      <td>0.001795</td>\n",
       "      <td>0.000397</td>\n",
       "      <td>6</td>\n",
       "      <td>rbf</td>\n",
       "      <td>{'C': 6, 'kernel': 'rbf'}</td>\n",
       "      <td>0.966667</td>\n",
       "      <td>1.0</td>\n",
       "      <td>0.966667</td>\n",
       "      <td>0.966667</td>\n",
       "      <td>1.0</td>\n",
       "      <td>0.980000</td>\n",
       "      <td>0.016330</td>\n",
       "      <td>2</td>\n",
       "    </tr>\n",
       "    <tr>\n",
       "      <th>12</th>\n",
       "      <td>0.002004</td>\n",
       "      <td>0.000014</td>\n",
       "      <td>0.001388</td>\n",
       "      <td>0.000484</td>\n",
       "      <td>7</td>\n",
       "      <td>rbf</td>\n",
       "      <td>{'C': 7, 'kernel': 'rbf'}</td>\n",
       "      <td>0.966667</td>\n",
       "      <td>1.0</td>\n",
       "      <td>0.966667</td>\n",
       "      <td>0.966667</td>\n",
       "      <td>1.0</td>\n",
       "      <td>0.980000</td>\n",
       "      <td>0.016330</td>\n",
       "      <td>2</td>\n",
       "    </tr>\n",
       "    <tr>\n",
       "      <th>14</th>\n",
       "      <td>0.002193</td>\n",
       "      <td>0.000398</td>\n",
       "      <td>0.001596</td>\n",
       "      <td>0.000489</td>\n",
       "      <td>8</td>\n",
       "      <td>rbf</td>\n",
       "      <td>{'C': 8, 'kernel': 'rbf'}</td>\n",
       "      <td>0.966667</td>\n",
       "      <td>1.0</td>\n",
       "      <td>0.966667</td>\n",
       "      <td>0.966667</td>\n",
       "      <td>1.0</td>\n",
       "      <td>0.980000</td>\n",
       "      <td>0.016330</td>\n",
       "      <td>2</td>\n",
       "    </tr>\n",
       "    <tr>\n",
       "      <th>16</th>\n",
       "      <td>0.002194</td>\n",
       "      <td>0.000398</td>\n",
       "      <td>0.001195</td>\n",
       "      <td>0.000401</td>\n",
       "      <td>9</td>\n",
       "      <td>rbf</td>\n",
       "      <td>{'C': 9, 'kernel': 'rbf'}</td>\n",
       "      <td>0.966667</td>\n",
       "      <td>1.0</td>\n",
       "      <td>0.966667</td>\n",
       "      <td>0.966667</td>\n",
       "      <td>1.0</td>\n",
       "      <td>0.980000</td>\n",
       "      <td>0.016330</td>\n",
       "      <td>2</td>\n",
       "    </tr>\n",
       "    <tr>\n",
       "      <th>18</th>\n",
       "      <td>0.002393</td>\n",
       "      <td>0.000487</td>\n",
       "      <td>0.000996</td>\n",
       "      <td>0.000005</td>\n",
       "      <td>10</td>\n",
       "      <td>rbf</td>\n",
       "      <td>{'C': 10, 'kernel': 'rbf'}</td>\n",
       "      <td>0.966667</td>\n",
       "      <td>1.0</td>\n",
       "      <td>0.966667</td>\n",
       "      <td>0.966667</td>\n",
       "      <td>1.0</td>\n",
       "      <td>0.980000</td>\n",
       "      <td>0.016330</td>\n",
       "      <td>2</td>\n",
       "    </tr>\n",
       "    <tr>\n",
       "      <th>20</th>\n",
       "      <td>0.002586</td>\n",
       "      <td>0.000484</td>\n",
       "      <td>0.001405</td>\n",
       "      <td>0.000496</td>\n",
       "      <td>11</td>\n",
       "      <td>rbf</td>\n",
       "      <td>{'C': 11, 'kernel': 'rbf'}</td>\n",
       "      <td>0.966667</td>\n",
       "      <td>1.0</td>\n",
       "      <td>0.966667</td>\n",
       "      <td>0.966667</td>\n",
       "      <td>1.0</td>\n",
       "      <td>0.980000</td>\n",
       "      <td>0.016330</td>\n",
       "      <td>2</td>\n",
       "    </tr>\n",
       "    <tr>\n",
       "      <th>22</th>\n",
       "      <td>0.002393</td>\n",
       "      <td>0.000489</td>\n",
       "      <td>0.000999</td>\n",
       "      <td>0.000003</td>\n",
       "      <td>12</td>\n",
       "      <td>rbf</td>\n",
       "      <td>{'C': 12, 'kernel': 'rbf'}</td>\n",
       "      <td>0.966667</td>\n",
       "      <td>1.0</td>\n",
       "      <td>0.966667</td>\n",
       "      <td>0.966667</td>\n",
       "      <td>1.0</td>\n",
       "      <td>0.980000</td>\n",
       "      <td>0.016330</td>\n",
       "      <td>2</td>\n",
       "    </tr>\n",
       "    <tr>\n",
       "      <th>24</th>\n",
       "      <td>0.001991</td>\n",
       "      <td>0.000006</td>\n",
       "      <td>0.001199</td>\n",
       "      <td>0.000397</td>\n",
       "      <td>13</td>\n",
       "      <td>rbf</td>\n",
       "      <td>{'C': 13, 'kernel': 'rbf'}</td>\n",
       "      <td>0.966667</td>\n",
       "      <td>1.0</td>\n",
       "      <td>0.966667</td>\n",
       "      <td>0.966667</td>\n",
       "      <td>1.0</td>\n",
       "      <td>0.980000</td>\n",
       "      <td>0.016330</td>\n",
       "      <td>2</td>\n",
       "    </tr>\n",
       "  </tbody>\n",
       "</table>\n",
       "</div>"
      ],
      "text/plain": [
       "    mean_fit_time  std_fit_time  mean_score_time  std_score_time param_C  \\\n",
       "0        0.003597      0.000792         0.002195        0.000399       1   \n",
       "1        0.002985      0.000899         0.002406        0.000792       1   \n",
       "2        0.003193      0.001155         0.002194        0.000977       2   \n",
       "3        0.002202      0.000395         0.001194        0.000397       2   \n",
       "6        0.002392      0.000489         0.001199        0.000398       4   \n",
       "8        0.001983      0.000018         0.001606        0.000500       5   \n",
       "9        0.002188      0.000386         0.001601        0.000481       5   \n",
       "10       0.002194      0.000398         0.001795        0.000397       6   \n",
       "12       0.002004      0.000014         0.001388        0.000484       7   \n",
       "14       0.002193      0.000398         0.001596        0.000489       8   \n",
       "16       0.002194      0.000398         0.001195        0.000401       9   \n",
       "18       0.002393      0.000487         0.000996        0.000005      10   \n",
       "20       0.002586      0.000484         0.001405        0.000496      11   \n",
       "22       0.002393      0.000489         0.000999        0.000003      12   \n",
       "24       0.001991      0.000006         0.001199        0.000397      13   \n",
       "\n",
       "   param_kernel                        params  split0_test_score  \\\n",
       "0           rbf     {'C': 1, 'kernel': 'rbf'}           0.966667   \n",
       "1        linear  {'C': 1, 'kernel': 'linear'}           0.966667   \n",
       "2           rbf     {'C': 2, 'kernel': 'rbf'}           0.966667   \n",
       "3        linear  {'C': 2, 'kernel': 'linear'}           0.966667   \n",
       "6           rbf     {'C': 4, 'kernel': 'rbf'}           0.966667   \n",
       "8           rbf     {'C': 5, 'kernel': 'rbf'}           0.966667   \n",
       "9        linear  {'C': 5, 'kernel': 'linear'}           1.000000   \n",
       "10          rbf     {'C': 6, 'kernel': 'rbf'}           0.966667   \n",
       "12          rbf     {'C': 7, 'kernel': 'rbf'}           0.966667   \n",
       "14          rbf     {'C': 8, 'kernel': 'rbf'}           0.966667   \n",
       "16          rbf     {'C': 9, 'kernel': 'rbf'}           0.966667   \n",
       "18          rbf    {'C': 10, 'kernel': 'rbf'}           0.966667   \n",
       "20          rbf    {'C': 11, 'kernel': 'rbf'}           0.966667   \n",
       "22          rbf    {'C': 12, 'kernel': 'rbf'}           0.966667   \n",
       "24          rbf    {'C': 13, 'kernel': 'rbf'}           0.966667   \n",
       "\n",
       "    split1_test_score  split2_test_score  split3_test_score  \\\n",
       "0                 1.0           0.966667           0.966667   \n",
       "1                 1.0           0.966667           0.966667   \n",
       "2                 1.0           0.966667           0.966667   \n",
       "3                 1.0           0.966667           0.966667   \n",
       "6                 1.0           1.000000           0.966667   \n",
       "8                 1.0           0.966667           0.966667   \n",
       "9                 1.0           0.933333           0.966667   \n",
       "10                1.0           0.966667           0.966667   \n",
       "12                1.0           0.966667           0.966667   \n",
       "14                1.0           0.966667           0.966667   \n",
       "16                1.0           0.966667           0.966667   \n",
       "18                1.0           0.966667           0.966667   \n",
       "20                1.0           0.966667           0.966667   \n",
       "22                1.0           0.966667           0.966667   \n",
       "24                1.0           0.966667           0.966667   \n",
       "\n",
       "    split4_test_score  mean_test_score  std_test_score  rank_test_score  \n",
       "0                 1.0         0.980000        0.016330                2  \n",
       "1                 1.0         0.980000        0.016330                2  \n",
       "2                 1.0         0.980000        0.016330                2  \n",
       "3                 1.0         0.980000        0.016330                2  \n",
       "6                 1.0         0.986667        0.016330                1  \n",
       "8                 1.0         0.980000        0.016330                2  \n",
       "9                 1.0         0.980000        0.026667                2  \n",
       "10                1.0         0.980000        0.016330                2  \n",
       "12                1.0         0.980000        0.016330                2  \n",
       "14                1.0         0.980000        0.016330                2  \n",
       "16                1.0         0.980000        0.016330                2  \n",
       "18                1.0         0.980000        0.016330                2  \n",
       "20                1.0         0.980000        0.016330                2  \n",
       "22                1.0         0.980000        0.016330                2  \n",
       "24                1.0         0.980000        0.016330                2  "
      ]
     },
     "execution_count": 98,
     "metadata": {},
     "output_type": "execute_result"
    }
   ],
   "source": [
    "df2[df2['mean_test_score']>0.979]"
   ]
  },
  {
   "cell_type": "code",
   "execution_count": 99,
   "metadata": {},
   "outputs": [
    {
     "data": {
      "text/plain": [
       "0.9866666666666667"
      ]
     },
     "execution_count": 99,
     "metadata": {},
     "output_type": "execute_result"
    }
   ],
   "source": [
    "clf.best_score_"
   ]
  },
  {
   "cell_type": "code",
   "execution_count": 100,
   "metadata": {},
   "outputs": [
    {
     "data": {
      "text/plain": [
       "{'C': 4, 'kernel': 'rbf'}"
      ]
     },
     "execution_count": 100,
     "metadata": {},
     "output_type": "execute_result"
    }
   ],
   "source": [
    "clf.best_params_"
   ]
  },
  {
   "cell_type": "code",
   "execution_count": null,
   "metadata": {},
   "outputs": [],
   "source": [
    "    "
   ]
  }
 ],
 "metadata": {
  "kernelspec": {
   "display_name": "Python 3",
   "language": "python",
   "name": "python3"
  },
  "language_info": {
   "codemirror_mode": {
    "name": "ipython",
    "version": 3
   },
   "file_extension": ".py",
   "mimetype": "text/x-python",
   "name": "python",
   "nbconvert_exporter": "python",
   "pygments_lexer": "ipython3",
   "version": "3.7.7"
  }
 },
 "nbformat": 4,
 "nbformat_minor": 4
}
