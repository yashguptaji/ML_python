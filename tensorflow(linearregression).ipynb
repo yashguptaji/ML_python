{
  "nbformat": 4,
  "nbformat_minor": 0,
  "metadata": {
    "colab": {
      "name": "Untitled2.ipynb",
      "provenance": []
    },
    "kernelspec": {
      "name": "python3",
      "display_name": "Python 3"
    }
  },
  "cells": [
    {
      "cell_type": "code",
      "metadata": {
        "id": "uyPN8LJfAzG6",
        "colab_type": "code",
        "colab": {}
      },
      "source": [
        "import tensorflow as tf\n",
        "import numpy as np\n",
        "from __future__ import absolute_import, division, print_function\n",
        "import matplotlib.pyplot as plt"
      ],
      "execution_count": 22,
      "outputs": []
    },
    {
      "cell_type": "code",
      "metadata": {
        "id": "IOIs_t_GA5zH",
        "colab_type": "code",
        "colab": {}
      },
      "source": [
        "rng=np.random"
      ],
      "execution_count": 18,
      "outputs": []
    },
    {
      "cell_type": "code",
      "metadata": {
        "id": "Oerer-AcBBHW",
        "colab_type": "code",
        "colab": {}
      },
      "source": [
        "learning_rate = 0.01\n",
        "training_steps = 1000\n",
        "display_step = 50"
      ],
      "execution_count": 20,
      "outputs": []
    },
    {
      "cell_type": "code",
      "metadata": {
        "id": "UjRLWJdlBBzs",
        "colab_type": "code",
        "colab": {}
      },
      "source": [
        "X = np.array([3.3,4.4,5.5,6.71,6.93,4.168,9.779,6.182,7.59,2.167,\n",
        "              7.042,10.791,5.313,7.997,5.654,9.27,3.1])\n",
        "y = np.array([1.7,2.76,2.09,3.19,1.694,1.573,3.366,2.596,2.53,1.221,\n",
        "              2.827,3.465,1.65,2.904,2.42,2.94,1.3])"
      ],
      "execution_count": 29,
      "outputs": []
    },
    {
      "cell_type": "code",
      "metadata": {
        "id": "-18vcekNBIwm",
        "colab_type": "code",
        "colab": {
          "base_uri": "https://localhost:8080/",
          "height": 282
        },
        "outputId": "55ae66a5-a953-4b37-d4cd-a8d406d7eec5"
      },
      "source": [
        "plt.scatter(X,y)"
      ],
      "execution_count": 30,
      "outputs": [
        {
          "output_type": "execute_result",
          "data": {
            "text/plain": [
              "<matplotlib.collections.PathCollection at 0x7f27e5bdff60>"
            ]
          },
          "metadata": {
            "tags": []
          },
          "execution_count": 30
        },
        {
          "output_type": "display_data",
          "data": {
            "image/png": "[encoded data removed]",
            "text/plain": [
              "<Figure size 432x288 with 1 Axes>"
            ]
          },
          "metadata": {
            "tags": [],
            "needs_background": "light"
          }
        }
      ]
    },
    {
      "cell_type": "code",
      "metadata": {
        "id": "8Tia4eOzBN3W",
        "colab_type": "code",
        "colab": {}
      },
      "source": [
        "W = tf.Variable(rng.randn(), name=\"weight\")\n",
        "b = tf.Variable(rng.randn(), name=\"bias\")"
      ],
      "execution_count": 26,
      "outputs": []
    },
    {
      "cell_type": "code",
      "metadata": {
        "id": "9rWb4Bb7BVhy",
        "colab_type": "code",
        "colab": {}
      },
      "source": [
        "def LinearRegression(x):\n",
        "  return W*x +b\n",
        "def mse(y,y_pred):\n",
        "  return tf.reduce_mean(tf.square(y-y_pred))"
      ],
      "execution_count": 31,
      "outputs": []
    },
    {
      "cell_type": "code",
      "metadata": {
        "id": "HzWjqXqwBXG-",
        "colab_type": "code",
        "colab": {}
      },
      "source": [
        "optimizer = tf.optimizers.SGD(learning_rate)"
      ],
      "execution_count": 32,
      "outputs": []
    },
    {
      "cell_type": "code",
      "metadata": {
        "id": "uNN1TPa4CPQX",
        "colab_type": "code",
        "colab": {}
      },
      "source": [
        "def run_optimization():\n",
        "  with tf.GradientTape() as g:\n",
        "    pred=LinearRegression(X)\n",
        "    loss=mse(y,pred)\n",
        "  \n",
        "    gradients = g.gradient(loss, [W, b])\n",
        "    optimizer.apply_gradients(zip(gradients, [W, b]))"
      ],
      "execution_count": 52,
      "outputs": []
    },
    {
      "cell_type": "code",
      "metadata": {
        "id": "mL0Rqy2cCZbJ",
        "colab_type": "code",
        "colab": {
          "base_uri": "https://localhost:8080/",
          "height": 353
        },
        "outputId": "0502b35c-4587-4a14-c10a-f6aff74e551a"
      },
      "source": [
        "\n",
        "# Run training for the given number of steps.\n",
        "for step in range(1, training_steps + 1):\n",
        "    # Run the optimization to update W and b values.\n",
        "    run_optimization()\n",
        "    if step % display_step == 0:\n",
        "\n",
        "      pred = LinearRegression(X)\n",
        "      loss = mse(pred, y)\n",
        "      print(\"step: %i, loss: %f, W: %f, b: %f\" % (step, loss, W.numpy(), b.numpy()))"
      ],
      "execution_count": 59,
      "outputs": [
        {
          "output_type": "stream",
          "text": [
            "step: 50, loss: 0.153862, W: 0.250816, b: 0.804607\n",
            "step: 100, loss: 0.153861, W: 0.250910, b: 0.803943\n",
            "step: 150, loss: 0.153860, W: 0.250993, b: 0.803355\n",
            "step: 200, loss: 0.153860, W: 0.251066, b: 0.802834\n",
            "step: 250, loss: 0.153859, W: 0.251131, b: 0.802372\n",
            "step: 300, loss: 0.153859, W: 0.251189, b: 0.801963\n",
            "step: 350, loss: 0.153859, W: 0.251240, b: 0.801601\n",
            "step: 400, loss: 0.153858, W: 0.251285, b: 0.801281\n",
            "step: 450, loss: 0.153858, W: 0.251325, b: 0.800997\n",
            "step: 500, loss: 0.153858, W: 0.251361, b: 0.800746\n",
            "step: 550, loss: 0.153858, W: 0.251392, b: 0.800524\n",
            "step: 600, loss: 0.153858, W: 0.251420, b: 0.800326\n",
            "step: 650, loss: 0.153858, W: 0.251444, b: 0.800152\n",
            "step: 700, loss: 0.153858, W: 0.251466, b: 0.799997\n",
            "step: 750, loss: 0.153858, W: 0.251486, b: 0.799861\n",
            "step: 800, loss: 0.153858, W: 0.251503, b: 0.799739\n",
            "step: 850, loss: 0.153858, W: 0.251518, b: 0.799632\n",
            "step: 900, loss: 0.153858, W: 0.251531, b: 0.799537\n",
            "step: 950, loss: 0.153858, W: 0.251543, b: 0.799453\n",
            "step: 1000, loss: 0.153858, W: 0.251554, b: 0.799378\n"
          ],
          "name": "stdout"
        }
      ]
    },
    {
      "cell_type": "code",
      "metadata": {
        "id": "n0Og2RtFCtOv",
        "colab_type": "code",
        "colab": {
          "base_uri": "https://localhost:8080/",
          "height": 282
        },
        "outputId": "660dbc57-54fe-463b-a9c7-dca3bc7d247f"
      },
      "source": [
        "plt.scatter(X,y,label='trainset')\n",
        "plt.plot(X,np.array(W*X+b),color='r',label='best_fit')\n",
        "plt.legend()"
      ],
      "execution_count": 63,
      "outputs": [
        {
          "output_type": "execute_result",
          "data": {
            "text/plain": [
              "<matplotlib.legend.Legend at 0x7f27dc65e390>"
            ]
          },
          "metadata": {
            "tags": []
          },
          "execution_count": 63
        },
        {
          "output_type": "display_data",
          "data": {
            "image/png": "[encoded data removed]",
            "text/plain": [
              "<Figure size 432x288 with 1 Axes>"
            ]
          },
          "metadata": {
            "tags": [],
            "needs_background": "light"
          }
        }
      ]
    },
    {
      "cell_type": "code",
      "metadata": {
        "id": "BwvWzmToD273",
        "colab_type": "code",
        "colab": {}
      },
      "source": [
        ""
      ],
      "execution_count": null,
      "outputs": []
    }
  ]
}